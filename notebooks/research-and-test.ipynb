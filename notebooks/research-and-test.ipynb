{
 "cells": [
  {
   "cell_type": "markdown",
   "id": "241575c1",
   "metadata": {},
   "source": [
    "# 1- Fundamental libraries"
   ]
  },
  {
   "cell_type": "code",
   "execution_count": 95,
   "id": "7fc1883c",
   "metadata": {},
   "outputs": [],
   "source": [
    "import numpy as np\n",
    "import pandas as pd\n",
    "import scipy\n",
    "import matplotlib.pyplot as plt\n",
    "import seaborn as sns\n",
    "import scrapy\n",
    "import requests\n",
    "from bs4 import BeautifulSoup\n",
    "import time\n",
    "import bs4\n",
    "import matplotlib\n",
    "import xformers\n",
    "import torch\n",
    "import transformers"
   ]
  },
  {
   "cell_type": "code",
   "execution_count": 96,
   "id": "d5e4bb88",
   "metadata": {},
   "outputs": [
    {
     "name": "stdout",
     "output_type": "stream",
     "text": [
      "----------------\n",
      "*** Versions ***\n",
      "----------------\n",
      "numpy==1.24.3\n",
      "pandas==1.5.3\n",
      "scipy==1.10.1\n",
      "scrapy==2.9.0\n",
      "seaborn==0.12.2\n",
      "requests==2.29.0\n",
      "bs4==4.12.2\n",
      "matplotlib==3.7.1\n",
      "xformers==0.0.20\n",
      "torch==2.0.1+cu117\n",
      "transformers==4.30.2\n",
      "----------------\n"
     ]
    }
   ],
   "source": [
    "print('-'*16)\n",
    "print('*** Versions ***')\n",
    "print('-'*16)\n",
    "print(f'numpy=={np.__version__}')\n",
    "print(f'pandas=={pd.__version__}')\n",
    "print(f'scipy=={scipy.__version__}')\n",
    "print(f'scrapy=={scrapy.__version__}')\n",
    "print(f'seaborn=={sns.__version__}')\n",
    "print(f'requests=={requests.__version__}')\n",
    "print(f'bs4=={bs4.__version__}')\n",
    "print(f'matplotlib=={matplotlib.__version__}')\n",
    "print(f'xformers=={xformers.__version__}')\n",
    "print(f'torch=={torch.__version__}')\n",
    "print(f'transformers=={transformers.__version__}')\n",
    "print('-'*16)"
   ]
  },
  {
   "cell_type": "markdown",
   "id": "ac96bcea",
   "metadata": {},
   "source": [
    "# 2- Explore Kaggle Dataset"
   ]
  },
  {
   "cell_type": "code",
   "execution_count": 6,
   "id": "fd1df642",
   "metadata": {},
   "outputs": [
    {
     "data": {
      "text/html": [
       "<div>\n",
       "<style scoped>\n",
       "    .dataframe tbody tr th:only-of-type {\n",
       "        vertical-align: middle;\n",
       "    }\n",
       "\n",
       "    .dataframe tbody tr th {\n",
       "        vertical-align: top;\n",
       "    }\n",
       "\n",
       "    .dataframe thead th {\n",
       "        text-align: right;\n",
       "    }\n",
       "</style>\n",
       "<table border=\"1\" class=\"dataframe\">\n",
       "  <thead>\n",
       "    <tr style=\"text-align: right;\">\n",
       "      <th></th>\n",
       "      <th>Movie name</th>\n",
       "      <th>Release Year</th>\n",
       "      <th>Rating</th>\n",
       "      <th>Reviewer name</th>\n",
       "      <th>Review date</th>\n",
       "      <th>Review</th>\n",
       "      <th>Comment count</th>\n",
       "      <th>Like count</th>\n",
       "    </tr>\n",
       "  </thead>\n",
       "  <tbody>\n",
       "    <tr>\n",
       "      <th>0</th>\n",
       "      <td>Aftersun (2022)</td>\n",
       "      <td>2022</td>\n",
       "      <td>â??â??â??â??Â½</td>\n",
       "      <td>Tuomas</td>\n",
       "      <td>12-Jan-20</td>\n",
       "      <td>This review may contain spoilers.</td>\n",
       "      <td>130</td>\n",
       "      <td>22,44 6   likes</td>\n",
       "    </tr>\n",
       "    <tr>\n",
       "      <th>1</th>\n",
       "      <td>Joker (2019)</td>\n",
       "      <td>2019</td>\n",
       "      <td>â??â??â??â??â??</td>\n",
       "      <td>Joao</td>\n",
       "      <td>20-Dec-22</td>\n",
       "      <td>if youâ??ve never swam in the ocean then of co...</td>\n",
       "      <td>1.8K</td>\n",
       "      <td>22,032 likes</td>\n",
       "    </tr>\n",
       "    <tr>\n",
       "      <th>2</th>\n",
       "      <td>Puss in Boots: The Last Wish (2022)</td>\n",
       "      <td>2022</td>\n",
       "      <td>â??Â½</td>\n",
       "      <td>NicoPico</td>\n",
       "      <td>15-Sep-22</td>\n",
       "      <td>Puss in Boots: Into the Pussy-Verse</td>\n",
       "      <td>6  2</td>\n",
       "      <td>21, 6   6   6   likes</td>\n",
       "    </tr>\n",
       "    <tr>\n",
       "      <th>3</th>\n",
       "      <td>The Banshees of Inisherin (2022)</td>\n",
       "      <td>2022</td>\n",
       "      <td>â??â??â??â??â??</td>\n",
       "      <td>Ella Kemp</td>\n",
       "      <td>8-Apr-22</td>\n",
       "      <td>I will NOT leave my donkey outside when Iâ??m sad</td>\n",
       "      <td>NaN</td>\n",
       "      <td>21, 6  09 likes</td>\n",
       "    </tr>\n",
       "    <tr>\n",
       "      <th>4</th>\n",
       "      <td>Everything Everywhere All at Once (2022)</td>\n",
       "      <td>2022</td>\n",
       "      <td>â??â??Â½</td>\n",
       "      <td>CosmonautMarkie</td>\n",
       "      <td>14-Aug-19</td>\n",
       "      <td>Watch it and have fun before film Twitter tell...</td>\n",
       "      <td>355</td>\n",
       "      <td>20, 6  88 likes</td>\n",
       "    </tr>\n",
       "  </tbody>\n",
       "</table>\n",
       "</div>"
      ],
      "text/plain": [
       "                                 Movie name Release Year           Rating  \\\n",
       "0                           Aftersun (2022)         2022   â??â??â??â??Â½   \n",
       "1                              Joker (2019)         2019  â??â??â??â??â??   \n",
       "2       Puss in Boots: The Last Wish (2022)         2022            â??Â½   \n",
       "3          The Banshees of Inisherin (2022)         2022  â??â??â??â??â??   \n",
       "4  Everything Everywhere All at Once (2022)         2022         â??â??Â½   \n",
       "\n",
       "     Reviewer name Review date  \\\n",
       "0           Tuomas   12-Jan-20   \n",
       "1             Joao   20-Dec-22   \n",
       "2         NicoPico   15-Sep-22   \n",
       "3        Ella Kemp    8-Apr-22   \n",
       "4  CosmonautMarkie   14-Aug-19   \n",
       "\n",
       "                                              Review Comment count  \\\n",
       "0                  This review may contain spoilers.           130   \n",
       "1  if youâ??ve never swam in the ocean then of co...          1.8K   \n",
       "2                Puss in Boots: Into the Pussy-Verse          6  2   \n",
       "3  I will NOT leave my donkey outside when Iâ??m sad           NaN   \n",
       "4  Watch it and have fun before film Twitter tell...           355   \n",
       "\n",
       "              Like count  \n",
       "0        22,44 6   likes  \n",
       "1           22,032 likes  \n",
       "2  21, 6   6   6   likes  \n",
       "3        21, 6  09 likes  \n",
       "4        20, 6  88 likes  "
      ]
     },
     "execution_count": 6,
     "metadata": {},
     "output_type": "execute_result"
    }
   ],
   "source": [
    "# Source: https://www.kaggle.com/datasets/joyshil0599/movie-reviews-dataset-10k-scraped-data\n",
    "df = pd.read_csv('../data/external/letterboxd-reviews.csv',encoding='latin_1')\n",
    "df.head()"
   ]
  },
  {
   "cell_type": "markdown",
   "id": "034a258d",
   "metadata": {},
   "source": [
    "**poor data quality (for this application only)**"
   ]
  },
  {
   "cell_type": "markdown",
   "id": "d4579158",
   "metadata": {},
   "source": [
    "# 3- Web Scrapping"
   ]
  },
  {
   "cell_type": "code",
   "execution_count": 8,
   "id": "289c1b0e",
   "metadata": {},
   "outputs": [],
   "source": [
    "# TODO: Put this in config files\n",
    "TOP_250_ENDPOINT = 'https://letterboxd.com/dave/list/official-top-250-narrative-feature-films/'\n",
    "ALL_250_ENDOPOINTS = [TOP_250_ENDPOINT,TOP_250_ENDPOINT+'page/2/',TOP_250_ENDPOINT+'page/3/']"
   ]
  },
  {
   "cell_type": "markdown",
   "id": "a7c70355",
   "metadata": {},
   "source": [
    "## 3.1 Functions"
   ]
  },
  {
   "cell_type": "code",
   "execution_count": 9,
   "id": "c680050f",
   "metadata": {},
   "outputs": [],
   "source": [
    "import requests\n",
    "from bs4 import BeautifulSoup\n",
    "\n",
    "def get_movies(endpoint):\n",
    "    \"\"\"\n",
    "    Get a list of movie links from the specified endpoint.\n",
    "\n",
    "    Parameters:\n",
    "        endpoint (str): The URL endpoint to scrape movie links from.\n",
    "\n",
    "    Returns:\n",
    "        list: A list of movie links (URLs).\n",
    "    \"\"\"\n",
    "\n",
    "    BASE_ENDPOINT = 'https://letterboxd.com/'\n",
    "    all_movies = []\n",
    "\n",
    "    # Send a GET request to the endpoint and parse the HTML response\n",
    "    response = requests.get(endpoint)\n",
    "    soup = BeautifulSoup(response.text, 'html.parser')\n",
    "\n",
    "    elements = soup.find_all(class_='poster-container numbered-list-item')\n",
    "\n",
    "    for element in elements:\n",
    "        # Extract the 'data-target-link' attribute from the 'poster' div\n",
    "        site = element.find('div', class_='poster').get('data-target-link')\n",
    "        all_movies.append(BASE_ENDPOINT + site)\n",
    "\n",
    "    return all_movies"
   ]
  },
  {
   "cell_type": "code",
   "execution_count": 22,
   "id": "b595fb39",
   "metadata": {},
   "outputs": [],
   "source": [
    "def get_reviews(endpoint,max_reviews=20):\n",
    "    \"\"\"\n",
    "    Scrape review data for a movie from the specified endpoint.\n",
    "\n",
    "    Parameters:\n",
    "        endpoint (str): The URL endpoint to scrape review data from.\n",
    "        max_reviews (int, optional): The maximum number of reviews to scrape. Default is 20.\n",
    "\n",
    "    Returns:\n",
    "        dict: A dictionary containing movie review data with keys 'NAME', 'YEAR', 'DIRECTOR', 'SYNOPSIS',\n",
    "              'RATINGS', and 'TEXT'.\n",
    "    \"\"\"\n",
    "    \n",
    "    response = requests.get(endpoint)\n",
    "    soup = BeautifulSoup(response.text, 'html.parser')\n",
    "    \n",
    "    # Extract relevant movie information from the webpage\n",
    "    film_name = soup.find(class_='headline-1 js-widont prettify').text\n",
    "    film_year = soup.find(class_='number').text\n",
    "    film_director = soup.find('span', class_='prettify').text\n",
    "    film_synopsys = soup.find(class_='truncate').text\n",
    "    \n",
    "    rating_review = []\n",
    "    text_review = []\n",
    "    \n",
    "    count_rev = 0 # Initialize the review count\n",
    "    page = 1  # Start with the first page of reviews\n",
    "    \n",
    "    # Loop until the desired number of reviews is reached\n",
    "    while count_rev < max_reviews:\n",
    "        response = requests.get(f'{endpoint}reviews/by/activity/page/{page}/')\n",
    "        soup = BeautifulSoup(response.text, 'html.parser')\n",
    "\n",
    "        # Find all review elements on the page\n",
    "        reviews = soup.find_all(class_='film-detail-content')\n",
    "\n",
    "        # Iterate over each review element\n",
    "        for review in reviews:\n",
    "            text = review.find(class_='-prose').text\n",
    "            stars = review.find(class_='rating')\n",
    "            \n",
    "            # Check if the review text is long enough and not truncated\n",
    "            if len(text) > 5:\n",
    "                if not (text[-3] == '…' or text[-4] == '…'):\n",
    "                    text_review.append(text+'***') # '***' is a separator\n",
    "                    \n",
    "                    # Check if a rating is available or set it to 'None'\n",
    "                    if stars is None:\n",
    "                        rating_review.append(' None ')\n",
    "                    else:\n",
    "                        rating_review.append(stars.text)\n",
    "                        \n",
    "                    count_rev += 1\n",
    "                    if count_rev == max_reviews:\n",
    "                        break\n",
    "                \n",
    "        # Move to the next reviews page\n",
    "        page += 1\n",
    "    \n",
    "    # Create a dictionary with the movie review data\n",
    "    data = {\n",
    "        'NAME': film_name,\n",
    "        'YEAR': film_year,\n",
    "        'DIRECTOR': film_director,\n",
    "        'SYNOPSYS': film_synopsys,\n",
    "        'RATINGS': rating_review,\n",
    "        'TEXT': text_review\n",
    "    }\n",
    "    \n",
    "    return data"
   ]
  },
  {
   "cell_type": "markdown",
   "id": "a0c6007e",
   "metadata": {},
   "source": [
    "## 3.2 Get movie urls from the letterdboxd list"
   ]
  },
  {
   "cell_type": "code",
   "execution_count": 23,
   "id": "b6d8832e",
   "metadata": {},
   "outputs": [
    {
     "name": "stdout",
     "output_type": "stream",
     "text": [
      "Sucess!!!\n",
      "Excecution time: 1.01 seconds\n"
     ]
    }
   ],
   "source": [
    "start = time.time()\n",
    "# Define a list to store all movie links\n",
    "all_movies = []\n",
    "\n",
    "# Iterate over each endpoint in the list ALL_250_ENDOPOINTS\n",
    "for endpoint in ALL_250_ENDOPOINTS:\n",
    "    all_movies += get_movies(endpoint)\n",
    "end = time.time()\n",
    "\n",
    "total_time = round(end-start,2)\n",
    "print(f'Sucess!!!\\nExcecution time: {total_time} seconds')"
   ]
  },
  {
   "cell_type": "markdown",
   "id": "1b68702e",
   "metadata": {},
   "source": [
    "## 3.3 Get Metadata and short reviews for every movie"
   ]
  },
  {
   "cell_type": "code",
   "execution_count": 25,
   "id": "432664a7",
   "metadata": {},
   "outputs": [
    {
     "name": "stdout",
     "output_type": "stream",
     "text": [
      "Sucess!!!\n",
      "Excecution time: 519.93 seconds\n"
     ]
    }
   ],
   "source": [
    "start = time.time()\n",
    "\n",
    "# Create an empty dictionary to store data for each movie\n",
    "data = {\n",
    "        'NAME': [],\n",
    "        'YEAR': [],\n",
    "        'DIRECTOR': [],\n",
    "        'SYNOPSYS': [],\n",
    "        'RATINGS': [],\n",
    "        'REVIEWS': []\n",
    "    }\n",
    "\n",
    "# Iterate over each movie in the list all_movies\n",
    "for movie in all_movies:\n",
    "    row = get_reviews(movie,max_reviews=20)\n",
    "    \n",
    "    data['NAME'].append(row['NAME'])\n",
    "    data['YEAR'].append(row['YEAR'])\n",
    "    data['DIRECTOR'].append(row['DIRECTOR'])\n",
    "    data['SYNOPSYS'].append(row['SYNOPSYS'])\n",
    "    data['RATINGS'].append(row['RATINGS'])\n",
    "    data['REVIEWS'].append(row['TEXT'])\n",
    "    \n",
    "# Create a DataFrame from the data dictionary\n",
    "df = pd.DataFrame(data=data)\n",
    "\n",
    "end = time.time()\n",
    "total_time = round(end-start,2)\n",
    "print(f'Sucess!!!\\nExcecution time: {total_time} seconds')"
   ]
  },
  {
   "cell_type": "markdown",
   "id": "fd806fb1",
   "metadata": {},
   "source": [
    "## 3.2 Save raw dataset"
   ]
  },
  {
   "cell_type": "code",
   "execution_count": 27,
   "id": "5a0f1672",
   "metadata": {},
   "outputs": [],
   "source": [
    "df.to_csv('../data/raw/LetterboxdTop250.csv',index=False)"
   ]
  },
  {
   "cell_type": "markdown",
   "id": "edeb933f",
   "metadata": {},
   "source": [
    "# 4- Clean and transform raw data"
   ]
  },
  {
   "cell_type": "code",
   "execution_count": 33,
   "id": "631fa490",
   "metadata": {},
   "outputs": [
    {
     "data": {
      "text/html": [
       "<div>\n",
       "<style scoped>\n",
       "    .dataframe tbody tr th:only-of-type {\n",
       "        vertical-align: middle;\n",
       "    }\n",
       "\n",
       "    .dataframe tbody tr th {\n",
       "        vertical-align: top;\n",
       "    }\n",
       "\n",
       "    .dataframe thead th {\n",
       "        text-align: right;\n",
       "    }\n",
       "</style>\n",
       "<table border=\"1\" class=\"dataframe\">\n",
       "  <thead>\n",
       "    <tr style=\"text-align: right;\">\n",
       "      <th></th>\n",
       "      <th>NAME</th>\n",
       "      <th>YEAR</th>\n",
       "      <th>DIRECTOR</th>\n",
       "      <th>SYNOPSYS</th>\n",
       "      <th>RATINGS</th>\n",
       "      <th>REVIEWS</th>\n",
       "    </tr>\n",
       "  </thead>\n",
       "  <tbody>\n",
       "    <tr>\n",
       "      <th>0</th>\n",
       "      <td>Harakiri</td>\n",
       "      <td>1962</td>\n",
       "      <td>Masaki Kobayashi</td>\n",
       "      <td>\\nDown-on-his-luck veteran Tsugumo Hanshirō en...</td>\n",
       "      <td>[' ★★★★★ ', ' ★★★★½ ', ' ★★★★★ ', ' ★★★★★ ', '...</td>\n",
       "      <td>[' honor in the individual is virtue honor in ...</td>\n",
       "    </tr>\n",
       "    <tr>\n",
       "      <th>1</th>\n",
       "      <td>Come and See</td>\n",
       "      <td>1985</td>\n",
       "      <td>Elem Klimov</td>\n",
       "      <td>\\nThe invasion of a village in Byelorussia by ...</td>\n",
       "      <td>[' ★★★★★ ', ' ★★★★★ ', ' ★★★★½ ', ' ★★★★★ ', '...</td>\n",
       "      <td>[' as soon as this film ended i went online an...</td>\n",
       "    </tr>\n",
       "    <tr>\n",
       "      <th>2</th>\n",
       "      <td>12 Angry Men</td>\n",
       "      <td>1957</td>\n",
       "      <td>Sidney Lumet</td>\n",
       "      <td>\\nThe defense and the prosecution have rested ...</td>\n",
       "      <td>[' ★★★★★ ', ' ★★★★★ ', ' ★★★★ ', ' ★★★★½ ', ' ...</td>\n",
       "      <td>[\" That was the best 1.5 hours of middle aged ...</td>\n",
       "    </tr>\n",
       "    <tr>\n",
       "      <th>3</th>\n",
       "      <td>Seven Samurai</td>\n",
       "      <td>1954</td>\n",
       "      <td>Akira Kurosawa</td>\n",
       "      <td>\\nA samurai answers a village's request for pr...</td>\n",
       "      <td>[' ★★★★★ ', ' ★★★★★ ', ' ★★★★½ ', ' ★★★★★ ', '...</td>\n",
       "      <td>[' too many sweaty ass cheeks, 5 stars ***', '...</td>\n",
       "    </tr>\n",
       "    <tr>\n",
       "      <th>4</th>\n",
       "      <td>The Godfather: Part II</td>\n",
       "      <td>1974</td>\n",
       "      <td>Francis Ford Coppola</td>\n",
       "      <td>\\nIn the continuing saga of the Corleone crime...</td>\n",
       "      <td>[' ★★★★★ ', ' ★★★★★ ', ' ★★★★★ ', ' None ', ' ...</td>\n",
       "      <td>[\" young, totally fuckable al pacino and rober...</td>\n",
       "    </tr>\n",
       "  </tbody>\n",
       "</table>\n",
       "</div>"
      ],
      "text/plain": [
       "                     NAME  YEAR              DIRECTOR  \\\n",
       "0                Harakiri  1962      Masaki Kobayashi   \n",
       "1            Come and See  1985           Elem Klimov   \n",
       "2            12 Angry Men  1957          Sidney Lumet   \n",
       "3           Seven Samurai  1954        Akira Kurosawa   \n",
       "4  The Godfather: Part II  1974  Francis Ford Coppola   \n",
       "\n",
       "                                            SYNOPSYS  \\\n",
       "0  \\nDown-on-his-luck veteran Tsugumo Hanshirō en...   \n",
       "1  \\nThe invasion of a village in Byelorussia by ...   \n",
       "2  \\nThe defense and the prosecution have rested ...   \n",
       "3  \\nA samurai answers a village's request for pr...   \n",
       "4  \\nIn the continuing saga of the Corleone crime...   \n",
       "\n",
       "                                             RATINGS  \\\n",
       "0  [' ★★★★★ ', ' ★★★★½ ', ' ★★★★★ ', ' ★★★★★ ', '...   \n",
       "1  [' ★★★★★ ', ' ★★★★★ ', ' ★★★★½ ', ' ★★★★★ ', '...   \n",
       "2  [' ★★★★★ ', ' ★★★★★ ', ' ★★★★ ', ' ★★★★½ ', ' ...   \n",
       "3  [' ★★★★★ ', ' ★★★★★ ', ' ★★★★½ ', ' ★★★★★ ', '...   \n",
       "4  [' ★★★★★ ', ' ★★★★★ ', ' ★★★★★ ', ' None ', ' ...   \n",
       "\n",
       "                                             REVIEWS  \n",
       "0  [' honor in the individual is virtue honor in ...  \n",
       "1  [' as soon as this film ended i went online an...  \n",
       "2  [\" That was the best 1.5 hours of middle aged ...  \n",
       "3  [' too many sweaty ass cheeks, 5 stars ***', '...  \n",
       "4  [\" young, totally fuckable al pacino and rober...  "
      ]
     },
     "execution_count": 33,
     "metadata": {},
     "output_type": "execute_result"
    }
   ],
   "source": [
    "df = pd.read_csv('../data/raw/LetterboxdTop250.csv')\n",
    "df.head()"
   ]
  },
  {
   "cell_type": "markdown",
   "id": "3533d8dd",
   "metadata": {},
   "source": [
    "## 4.1- Save to kaggle contribution"
   ]
  },
  {
   "cell_type": "code",
   "execution_count": 34,
   "id": "3a7b0df8",
   "metadata": {},
   "outputs": [],
   "source": [
    "df['SYNOPSYS'] = df['SYNOPSYS'].str[1:-1]\n",
    "df.to_csv('../data/interim/LetterboxdTop250-5000reviews.csv')"
   ]
  },
  {
   "cell_type": "markdown",
   "id": "b16fd90b",
   "metadata": {},
   "source": [
    "## 4.2- Format for preprocessing"
   ]
  },
  {
   "cell_type": "code",
   "execution_count": 35,
   "id": "fd8a685e",
   "metadata": {},
   "outputs": [
    {
     "name": "stdout",
     "output_type": "stream",
     "text": [
      "RATINGS format: <class 'list'>\n"
     ]
    }
   ],
   "source": [
    "df['RATINGS'] = df['RATINGS'].str[1:-1].str.split(', ')\n",
    "print(f'RATINGS format: {type(df[\"RATINGS\"][0])}') "
   ]
  },
  {
   "cell_type": "code",
   "execution_count": 36,
   "id": "d0c01f36",
   "metadata": {},
   "outputs": [
    {
     "name": "stdout",
     "output_type": "stream",
     "text": [
      "REVIEWS format: <class 'list'>\n"
     ]
    }
   ],
   "source": [
    "df['REVIEWS'] = df['REVIEWS'].str[1:-1].str.split('\\*\\*\\*')\n",
    "print(f'REVIEWS format: {type(df[\"REVIEWS\"][0])}')"
   ]
  },
  {
   "cell_type": "markdown",
   "id": "ae9c3593",
   "metadata": {},
   "source": [
    "## 4.3- prepare for NLP"
   ]
  },
  {
   "cell_type": "code",
   "execution_count": 42,
   "id": "ee5a4010",
   "metadata": {},
   "outputs": [],
   "source": [
    "# dictionary for convinient workflow\n",
    "data_dict = df[['NAME','RATINGS','REVIEWS']].set_index('NAME').to_dict()\n",
    "\n",
    "#Structure:\n",
    "#{'RATINGS': {'NAME'}: stars,\n",
    "# 'SYNOPSYS':{'NAME'}: comments}\n",
    "\n",
    "\n",
    "#'RATINGS': primary key\n",
    "#'NAME': secondary key\n",
    "#stars: list (20 elements)\n",
    "#comments: list (20 elements)"
   ]
  },
  {
   "cell_type": "markdown",
   "id": "2b945ee1",
   "metadata": {},
   "source": [
    "## 4.4 Cleaning"
   ]
  },
  {
   "cell_type": "code",
   "execution_count": 46,
   "id": "11585675",
   "metadata": {},
   "outputs": [
    {
     "name": "stdout",
     "output_type": "stream",
     "text": [
      "Clean review example:\n"
     ]
    },
    {
     "data": {
      "text/plain": [
       "' wait can we normalize calling something you’ve only seen once, your favorite movie of all time? '"
      ]
     },
     "execution_count": 46,
     "metadata": {},
     "output_type": "execute_result"
    }
   ],
   "source": [
    "rev_dict = {}\n",
    "for key, value in data_dict['REVIEWS'].items():\n",
    "    clean_rev = []\n",
    "    \n",
    "    for review in value:\n",
    "        # Remove unwanted characters from each review\n",
    "        string = review.replace(\"',\",\"\").replace(\"' \",\"\").replace(\"\\'\",\"\").replace('AAAA','')\n",
    "        clean_rev.append(string)\n",
    "        \n",
    "    #Drop the last empty comment    \n",
    "    rev_dict[key] = clean_rev[:-1]\n",
    "    \n",
    "# Update the 'REVIEWS' key in data_dict with the cleaned review texts\n",
    "data_dict['REVIEWS'] = rev_dict\n",
    "\n",
    "print('Clean review example:')\n",
    "data_dict['REVIEWS']['Harakiri'][6]"
   ]
  },
  {
   "cell_type": "markdown",
   "id": "9801b70f",
   "metadata": {},
   "source": [
    "## 4.5- Transformation"
   ]
  },
  {
   "cell_type": "code",
   "execution_count": 50,
   "id": "17b1d18b",
   "metadata": {},
   "outputs": [
    {
     "name": "stdout",
     "output_type": "stream",
     "text": [
      "Raw rating format example: ' ★★★★★ '\n"
     ]
    }
   ],
   "source": [
    "print(f'Raw rating format example: {data_dict[\"RATINGS\"][\"Harakiri\"][6]}')"
   ]
  },
  {
   "cell_type": "code",
   "execution_count": 45,
   "id": "6537d9ce",
   "metadata": {},
   "outputs": [],
   "source": [
    "def get_num_rating(raw_string):\n",
    "    \"\"\"\n",
    "    Extract the numerical rating from the raw_data string.\n",
    "\n",
    "    Parameters:\n",
    "        raw_string (str): A string representing the raw rating data, which may contain '★' for full stars and '½' for half star.\n",
    "\n",
    "    Returns:\n",
    "        float: The numerical rating extracted from the raw_data string. If raw_data is 'None', it returns 0.0.\n",
    "    \"\"\"\n",
    "    \n",
    "    # Remove the leading and trailing characters\n",
    "    stars = raw_string[2:-2]  \n",
    "    count = 0.0\n",
    "\n",
    "    if stars != 'None':\n",
    "        # Iterate over each character in stars\n",
    "        for char in stars:\n",
    "            if char == '★':\n",
    "                count += 1\n",
    "            elif char == '½':\n",
    "                count += 0.5\n",
    "\n",
    "    return count"
   ]
  },
  {
   "cell_type": "code",
   "execution_count": 51,
   "id": "be7862c2",
   "metadata": {},
   "outputs": [
    {
     "name": "stdout",
     "output_type": "stream",
     "text": [
      "Transformed rating format example: 5.0\n"
     ]
    }
   ],
   "source": [
    "num_dict = {}\n",
    "for key,value in data_dict['RATINGS'].items():\n",
    "    num_values = []\n",
    "    \n",
    "    for stars in value:\n",
    "        # Call the get_num_rating() function to extract the numerical rating\n",
    "        num_values.append(get_num_rating(stars))\n",
    "    num_dict[key] = num_values\n",
    "    \n",
    "# Update the 'RATINGS' key in data_dict with the extracted numerical ratings\n",
    "data_dict['RATINGS'] = num_dict\n",
    "\n",
    "print(f'Transformed rating format example: {data_dict[\"RATINGS\"][\"Harakiri\"][6]}')"
   ]
  },
  {
   "cell_type": "markdown",
   "id": "08db9495",
   "metadata": {},
   "source": [
    "# 5- Natural language processing"
   ]
  },
  {
   "cell_type": "markdown",
   "id": "4af41118",
   "metadata": {},
   "source": [
    "## 5.1 Usefull functions"
   ]
  },
  {
   "cell_type": "code",
   "execution_count": 53,
   "id": "39cbab3b",
   "metadata": {},
   "outputs": [],
   "source": [
    "def get_labels(scores):\n",
    "    \"\"\"\n",
    "    Map the model output scores to human-readable labels.\n",
    "\n",
    "    Parameters:\n",
    "        scores (numpy.ndarray): An array containing the model's output scores for each class.\n",
    "\n",
    "    Returns:\n",
    "        dict: A dictionary where the keys are human-readable labels ('Negative', 'Neutral', 'Positive')\n",
    "              and the values are the corresponding scores from the model.\n",
    "    \"\"\"\n",
    "    \n",
    "    # Define a dictionary to map class indices to human-readable labels\n",
    "    # info in: https://huggingface.co/cardiffnlp/twitter-roberta-base-sentiment\n",
    "    labels = {\n",
    "    0:'Negative',\n",
    "    1:'Neutral',\n",
    "    2:'Positive'\n",
    "    }\n",
    "    \n",
    "    result = {}\n",
    "    for i in range(scores.shape[0]):\n",
    "        result[labels[i]] = scores[i]\n",
    "    return result"
   ]
  },
  {
   "cell_type": "markdown",
   "id": "6ad8ded6",
   "metadata": {},
   "source": [
    "## 5.2 CPU version"
   ]
  },
  {
   "cell_type": "code",
   "execution_count": 54,
   "id": "32b8ee7e",
   "metadata": {},
   "outputs": [],
   "source": [
    "from transformers import AutoModelForSequenceClassification\n",
    "from transformers import TFAutoModelForSequenceClassification\n",
    "from transformers import AutoTokenizer\n",
    "from scipy.special import softmax\n",
    "\n",
    "MODEL_NAME = 'cardiffnlp/twitter-roberta-base-sentiment'\n",
    "\n",
    "tokenizer = AutoTokenizer.from_pretrained(MODEL_NAME)\n",
    "\n",
    "model = AutoModelForSequenceClassification.from_pretrained(MODEL_NAME)\n",
    "#model.save_pretrained(MODEL_NAME)"
   ]
  },
  {
   "cell_type": "markdown",
   "id": "43af6520",
   "metadata": {},
   "source": [
    "It is necessary to generate a validation function for the input data. This will be done later with the model already in production, for now we are going to use TRY EXCEPT"
   ]
  },
  {
   "cell_type": "code",
   "execution_count": 59,
   "id": "3db6c5b7",
   "metadata": {},
   "outputs": [
    {
     "name": "stdout",
     "output_type": "stream",
     "text": [
      " 💼 • 🕰 • 🗄 • 📰 • 🔑 • 🚪 • 🍸 • 🏸 • 🥂{𝙵𝚛𝚊𝚗} 𝚆𝚑𝚢 𝚍𝚘 𝚙𝚎𝚘𝚙𝚕𝚎 𝚑𝚊𝚟𝚎 𝚝𝚘 𝚕𝚘𝚟𝚎 𝚙𝚎𝚘𝚙𝚕𝚎 𝚊𝚗𝚢𝚠𝚊𝚢?𝕄𝕆𝕍𝕀𝔼-𝕎𝕀𝕊𝔼, 𝕋ℍ𝔼ℝ𝔼 ℍ𝔸𝕊 ℕ𝔼𝕍𝔼ℝ 𝔹𝔼𝔼ℕ 𝔸ℕ𝕐𝕋ℍ𝕀ℕ𝔾 𝕃𝕀𝕂𝔼 𝕀𝕋 - 𝕃𝕆𝕍𝔼-𝕎𝕀𝕊𝔼, 𝕃𝔸𝕌𝔾ℍ-𝕎𝕀𝕊𝔼 𝕆ℝ 𝕆𝕋ℍ𝔼ℝ-𝕎𝕀𝕊𝔼!𝐓𝐡𝐢𝐬 𝐢𝐬 𝐨𝐧𝐞 𝐨𝐟 𝐭𝐡𝐨𝐬𝐞 𝐜𝐥𝐚𝐬𝐬𝐢𝐜 𝐦𝐨𝐯𝐢𝐞𝐬 𝐭𝐡𝐚𝐭 𝐢𝐬 𝐭𝐢𝐦𝐞𝐥𝐞𝐬𝐬. 𝐖𝐢𝐭𝐭𝐲 𝐝𝐢𝐚𝐥𝐨𝐠𝐮𝐞 𝐚𝐧𝐝 𝐚 𝐬𝐢𝐦𝐩𝐥𝐞 𝐲𝐞𝐭 𝐞𝐟𝐟𝐞𝐜𝐭𝐢𝐯𝐞 𝐧𝐚𝐫𝐫𝐚𝐭𝐢𝐯𝐞 𝐦𝐚𝐤𝐞 𝐟𝐨𝐫 𝐪𝐮𝐢𝐭𝐞 𝐚𝐧 𝐢𝐧𝐭𝐞𝐫𝐞𝐬𝐭𝐢𝐧𝐠 𝐰𝐚𝐭𝐜𝐡, 𝐡𝐨𝐰𝐞𝐯𝐞𝐫, 𝐈 𝐟𝐞𝐞𝐥 𝐢𝐭 𝐥𝐨𝐬𝐭 𝐬𝐨𝐦𝐞 𝐨𝐟 𝐢𝐭𝐬 𝐬𝐩𝐚𝐫𝐤 𝐛𝐲 𝐭𝐡𝐞 𝐡𝐚𝐥𝐟𝐰𝐚𝐲 𝐦𝐚𝐫𝐤. 𝐓𝐡𝐞 𝐭𝐨𝐧𝐞𝐬 𝐬𝐡𝐢𝐟𝐭𝐞𝐝 𝐟𝐫𝐨𝐦 𝐚 𝐥𝐢𝐠𝐡𝐭𝐡𝐞𝐚𝐫𝐭𝐞𝐝 𝐫𝐨𝐦-𝐜𝐨𝐦 𝐭𝐨 𝐚 𝐦𝐨𝐫𝐞 𝐩𝐫𝐞𝐝𝐢𝐜𝐭𝐚𝐛𝐥𝐞 𝐝𝐫𝐚𝐠𝐠𝐢𝐧𝐠 𝐝𝐫𝐚𝐦𝐚. 𝐍𝐨𝐧𝐞𝐭𝐡𝐞𝐥𝐞𝐬𝐬, 𝐈 𝐞𝐧𝐣𝐨𝐲𝐞𝐝 𝐭𝐡𝐞 𝐟𝐢𝐫𝐬𝐭 𝐡𝐚𝐥𝐟 𝐞𝐧𝐨𝐮𝐠𝐡 𝐭𝐨 𝐨𝐯𝐞𝐫𝐥𝐨𝐨𝐤 𝐦𝐲 𝐬𝐥𝐢𝐠𝐡𝐭 𝐝𝐢𝐬𝐚𝐩𝐩𝐨𝐢𝐧𝐭𝐦𝐞𝐧𝐭 𝐛𝐲 𝐭𝐡𝐞 𝐞𝐧𝐝. \n",
      "\", بشاعريته الفريدة والأخاذة ممزوجة بموسيقى رائعة جدا.. صنع لنا ثيو أنجيلوبولوس تحفته هاته وعالج فيها بمنتهى الجمالية هواجس وذكريات رجل يدنو من الفناء.. يقترب من الارتحال إلى عالم آخر وهو في قمة الأسى والندم على عمر مديد لن يعود.\" رجل يحتضر، يومه الأخير. كيف تقضي يومك الأخير؟ ما الذي يمكن أن يحدث لنا؟ ماذا سنفعل بالساعات المتبقية لنا؟ هل تتأمل الحياة التي عشتها، أم أنك تسمح لنفسك بأن تنساق، تنكشف أمام كل المصادفات: تتعقب شخصا ما، تفتح نافذة، تلتقي بشخص لا تعرفه، تفتح نفسك لكل ما يحدث، للمجيء غير المتوقع، للذي لا يرتبط لكن يتضح في النهاية أنه يرتبط؟ \" - ثيودوروس أنجيلوبولوس \n",
      "\", 🔥🔥🔥🔥🔥🔥🔥🔥🔥🔥🔥🔥🔥🔥🔥🔥🔥🔥🔥🔥🔥🔥🔥🔥🔥🔥🔥🔥🔥🔥🔥🔥🔥🔥🔥🔥🔥🔥🔥🔥🔥🔥🔥🔥🔥🔥🔥🔥🔥🔥🔥🔥🔥🔥🔥🔥🔥🔥🔥🔥🔥🔥🔥🔥🔥🔥🔥🔥🔥🔥🔥🔥🔥🔥🔥🔥🔥🔥🔥🔥🔥🔥🔥🔥🔥🔥🔥🔥🔥🔥🔥🔥🔥🔥🔥🔥🔥🔥🔥🔥🔥🔥🔥🔥🔥🔥🔥🔥🔥🔥🔥🔥🔥🔥🔥🔥🔥🔥🔥🔥🔥🔥🔥🔥🔥🔥🔥🔥🔥🔥🔥🔥🔥🔥🔥🔥🔥🔥🔥🔥🔥🔥🔥🔥🔥🔥🔥🔥🔥🔥🔥🔥🔥🔥🔥🔥🔥🔥🔥🔥🔥🔥🔥🔥🔥🔥🔥🔥🔥🔥🔥🔥🔥🔥🔥🔥🔥🔥🔥🔥 \n",
      " \"She\\ll never grow old!\"Satoshi Kon is Cinema \\u2003\\u2003\\u2003\\u2003\\u2003\\u2003\\u2003Cinema is Reality \\u2003\\u2003\\u2003\\u2003\\u2003\\u2003\\u2003\\u2003\\u2003\\u2003\\u2003\\u2003Reality is History \\u2003\\u2003\\u2003\\u2003\\u2003\\u2003\\u2003\\u2003\\u2003\\u2003\\u2003\\u2003\\u2003\\u2003\\u2003\\u2003\\u2002\\u200aHistory is Time \\u2003\\u2003\\u2003\\u2003\\u2003\\u2003\\u2003\\u2003\\u2003\\u2003\\u2003\\u2003\\u2003\\u2003\\u2003\\u2003\\u2003\\u2003\\u2003\\u2003\\u2003\\u200a\\u200a\\u200a\\u200a\\u200aTime is Life\\u2003\\u2003\\u2003\\u2003\\u2003\\u2003\\u2003\\u2003\\u2003\\u2003\\u2003\\u2003\\u2003\\u2003\\u2003\\u2003\\u2003\\u2003\\u2003\\u2003\\u2003\\u2003\\u2003\\u2003\\u200a\\u200a\\u2002\\u200a\\u200a\\u200a\\u200a\\u200a\\u200a\\u200aLife is AC I N E M AT\\u2005\\u2005\\u2005\\u2005\\u2005\\u2005\\u2005\\u2005\\u2005\\u2005\\u2005\\u2005\\u200aIR\\u2005\\u2005\\u2005\\u2005\\u2005\\u2005\\u2005\\u2005\\u2005\\u2005\\u2005\\u200a\\u200a\\u200a\\u200aLE\\u2005\\u2005\\u2005\\u2005\\u2005\\u2005\\u2005\\u2005\\u2005\\u2005\\u2005\\u2005\\u200aLS\\u2005\\u2005\\u2005\\u2005\\u2005\\u2005\\u2005\\u2005\\u2005\\u2005\\u2005\\u200a\\u200a\\u200a\\u200aES\\u2005\\u2005\\u2005\\u2005\\u2005\\u2005\\u2005\\u2005\\u2005\\u2005\\u2005\\u200a\\u200a\\u200a\\u200aN\\u2005\\u2005\\u2005\\u2005\\u2005\\u2005\\u2005\\u2005\\u2005\\u2005\\u2005\\u2005\\u2005\\u2005\\u200a\\u200aN\\u2005\\u2005\\u2005\\u2005\\u2005\\u2005\\u2005\\u2005\\u2005\\u2005\\u2005\\u2005\\u2005\\u2005\\u200a\\u200aI\\u2005\\u2005\\u2005\\u2005\\u2005\\u2005\\u2005\\u2005\\u2005\\u2005\\u2005\\u2005\\u2005\\u2005\\u200a\\u200aU\\u2005\\u2005\\u2005\\u2005\\u2005\\u2005\\u2005\\u2005\\u2005\\u2005\\u2005\\u2005\\u2005\\u2005\\u200a\\u200aM \n",
      " يقول مخملباف عن الفلم:\\xa0كان شبه روائي والذي استخدمته لإيصال نصيحتي إلى المجتمع. لكنني أيضًا انتقدت ذاتي الأصغر سنًا بطريقة رمزية ، حتى أنتقد ثورتنا ، حيث كان من المستحيل تقريبًا أن أنتقد الثورة بطريقة مباشرة ، حاولت أن أتجاوز قصتي الشخصية ، كي أشير إلى مشكلة هيكلية أكبر، كالعنف الملازم للثورة وأن أعرض نسخة غير عنيفة منهااذا هالفيلم مو أنقى فلم تابعته انا ما افهم ، جمالية رساله وبساطة تقديم تدّرس حقيقةرساله يهديها المخرج لنفسه في الماضي ولسان حاله يقول الأمور قد لا تحتاج الى العنف حتى تتحول للأفضل واستشعرت ان رسم بآخر الفلم الشيء اللي وده حصل لهأعجز أعجز عن وصف هالفيلم. \n"
     ]
    }
   ],
   "source": [
    "sentiment_dict = {}\n",
    "for key,values in data_dict['REVIEWS'].items():\n",
    "    \n",
    "    sentiment_list = []\n",
    "    for review in values:\n",
    "        # Tokenize the review text and convert it to PyTorch tensors\n",
    "        encoded_input = tokenizer(review, return_tensors='pt')\n",
    "        try:\n",
    "            output = model(**encoded_input)\n",
    "        except:\n",
    "            # If an exception occurs, set labels to 'Wrong input'\n",
    "            labels = 'Wrong input'\n",
    "            print(review)\n",
    "        else:\n",
    "            # Extract the model's output scores, apply softmax, and get human-readable labels\n",
    "            scores = softmax(output[0][0].detach().numpy())\n",
    "            labels = get_labels(scores)\n",
    "        finally:\n",
    "            sentiment_list.append(labels)\n",
    "    \n",
    "    # Assign the sentiment_list to the key in sentiment_dict\n",
    "    sentiment_dict[key] = sentiment_list"
   ]
  },
  {
   "cell_type": "code",
   "execution_count": 66,
   "id": "9cb79032",
   "metadata": {},
   "outputs": [
    {
     "data": {
      "text/plain": [
       "{'Negative': 0.16631296, 'Neutral': 0.32354698, 'Positive': 0.5101401}"
      ]
     },
     "execution_count": 66,
     "metadata": {},
     "output_type": "execute_result"
    }
   ],
   "source": [
    "sentiment_dict['12 Angry Men'][0]"
   ]
  },
  {
   "cell_type": "markdown",
   "id": "d7608109",
   "metadata": {},
   "source": [
    "### 5.2.1 Save results"
   ]
  },
  {
   "cell_type": "code",
   "execution_count": 60,
   "id": "55606ed6",
   "metadata": {},
   "outputs": [],
   "source": [
    "import pickle\n",
    "\n",
    "with open('../data/processed/sentiment_analysis.pkl', 'wb') as file:\n",
    "    pickle.dump(sentiment_dict, file, protocol=pickle.HIGHEST_PROTOCOL)"
   ]
  },
  {
   "cell_type": "markdown",
   "id": "3a60cd4b",
   "metadata": {},
   "source": [
    "## 5.3 GPU version\n",
    "Future work"
   ]
  }
 ],
 "metadata": {
  "kernelspec": {
   "display_name": "Python 3 (ipykernel)",
   "language": "python",
   "name": "python3"
  },
  "language_info": {
   "codemirror_mode": {
    "name": "ipython",
    "version": 3
   },
   "file_extension": ".py",
   "mimetype": "text/x-python",
   "name": "python",
   "nbconvert_exporter": "python",
   "pygments_lexer": "ipython3",
   "version": "3.10.12"
  }
 },
 "nbformat": 4,
 "nbformat_minor": 5
}
